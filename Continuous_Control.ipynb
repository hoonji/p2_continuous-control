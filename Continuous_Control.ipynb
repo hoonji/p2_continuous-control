{
 "cells": [
  {
   "cell_type": "markdown",
   "metadata": {},
   "source": [
    "# Continuous Control\n",
    "\n",
    "---\n",
    "\n",
    "In this notebook, you will learn how to use the Unity ML-Agents environment for the second project of the [Deep Reinforcement Learning Nanodegree](https://www.udacity.com/course/deep-reinforcement-learning-nanodegree--nd893) program.\n",
    "\n",
    "### 1. Start the Environment\n",
    "\n",
    "We begin by importing the necessary packages.  If the code cell below returns an error, please revisit the project instructions to double-check that you have installed [Unity ML-Agents](https://github.com/Unity-Technologies/ml-agents/blob/master/docs/Installation.md) and [NumPy](http://www.numpy.org/)."
   ]
  },
  {
   "cell_type": "code",
   "execution_count": 1,
   "metadata": {},
   "outputs": [],
   "source": [
    "from unityagents import UnityEnvironment\n",
    "import numpy as np\n",
    "import torch\n",
    "import random"
   ]
  },
  {
   "cell_type": "markdown",
   "metadata": {},
   "source": [
    "Next, we will start the environment!  **_Before running the code cell below_**, change the `file_name` parameter to match the location of the Unity environment that you downloaded.\n",
    "\n",
    "- **Mac**: `\"path/to/Reacher.app\"`\n",
    "- **Windows** (x86): `\"path/to/Reacher_Windows_x86/Reacher.exe\"`\n",
    "- **Windows** (x86_64): `\"path/to/Reacher_Windows_x86_64/Reacher.exe\"`\n",
    "- **Linux** (x86): `\"path/to/Reacher_Linux/Reacher.x86\"`\n",
    "- **Linux** (x86_64): `\"path/to/Reacher_Linux/Reacher.x86_64\"`\n",
    "- **Linux** (x86, headless): `\"path/to/Reacher_Linux_NoVis/Reacher.x86\"`\n",
    "- **Linux** (x86_64, headless): `\"path/to/Reacher_Linux_NoVis/Reacher.x86_64\"`\n",
    "\n",
    "For instance, if you are using a Mac, then you downloaded `Reacher.app`.  If this file is in the same folder as the notebook, then the line below should appear as follows:\n",
    "```\n",
    "env = UnityEnvironment(file_name=\"Reacher.app\")\n",
    "```"
   ]
  },
  {
   "cell_type": "code",
   "execution_count": 2,
   "metadata": {},
   "outputs": [
    {
     "name": "stderr",
     "output_type": "stream",
     "text": [
      "INFO:unityagents:\n",
      "'Academy' started successfully!\n",
      "Unity Academy name: Academy\n",
      "        Number of Brains: 1\n",
      "        Number of External Brains : 1\n",
      "        Lesson number : 0\n",
      "        Reset Parameters :\n",
      "\t\tgoal_speed -> 1.0\n",
      "\t\tgoal_size -> 5.0\n",
      "Unity brain name: ReacherBrain\n",
      "        Number of Visual Observations (per agent): 0\n",
      "        Vector Observation space type: continuous\n",
      "        Vector Observation space size (per agent): 33\n",
      "        Number of stacked Vector Observation: 1\n",
      "        Vector Action space type: continuous\n",
      "        Vector Action space size (per agent): 4\n",
      "        Vector Action descriptions: , , , \n"
     ]
    }
   ],
   "source": [
    "env = UnityEnvironment(file_name='Reacher_multi.app')"
   ]
  },
  {
   "cell_type": "markdown",
   "metadata": {},
   "source": [
    "Environments contain **_brains_** which are responsible for deciding the actions of their associated agents. Here we check for the first brain available, and set it as the default brain we will be controlling from Python."
   ]
  },
  {
   "cell_type": "code",
   "execution_count": 3,
   "metadata": {},
   "outputs": [],
   "source": [
    "# get the default brain\n",
    "brain_name = env.brain_names[0]\n",
    "brain = env.brains[brain_name]"
   ]
  },
  {
   "cell_type": "markdown",
   "metadata": {},
   "source": [
    "### 2. Examine the State and Action Spaces\n",
    "\n",
    "In this environment, a double-jointed arm can move to target locations. A reward of `+0.1` is provided for each step that the agent's hand is in the goal location. Thus, the goal of your agent is to maintain its position at the target location for as many time steps as possible.\n",
    "\n",
    "The observation space consists of `33` variables corresponding to position, rotation, velocity, and angular velocities of the arm.  Each action is a vector with four numbers, corresponding to torque applicable to two joints.  Every entry in the action vector must be a number between `-1` and `1`.\n",
    "\n",
    "Run the code cell below to print some information about the environment."
   ]
  },
  {
   "cell_type": "code",
   "execution_count": 4,
   "metadata": {},
   "outputs": [
    {
     "name": "stdout",
     "output_type": "stream",
     "text": [
      "Number of agents: 20\n",
      "Size of each action: 4\n",
      "There are 20 agents. Each observes a state with length: 33\n",
      "The state for the first agent looks like: [ 0.00000000e+00 -4.00000000e+00  0.00000000e+00  1.00000000e+00\n",
      " -0.00000000e+00 -0.00000000e+00 -4.37113883e-08  0.00000000e+00\n",
      "  0.00000000e+00  0.00000000e+00  0.00000000e+00  0.00000000e+00\n",
      "  0.00000000e+00  0.00000000e+00 -1.00000000e+01  0.00000000e+00\n",
      "  1.00000000e+00 -0.00000000e+00 -0.00000000e+00 -4.37113883e-08\n",
      "  0.00000000e+00  0.00000000e+00  0.00000000e+00  0.00000000e+00\n",
      "  0.00000000e+00  0.00000000e+00  5.75471878e+00 -1.00000000e+00\n",
      "  5.55726624e+00  0.00000000e+00  1.00000000e+00  0.00000000e+00\n",
      " -1.68164849e-01]\n"
     ]
    }
   ],
   "source": [
    "# reset the environment\n",
    "env_info = env.reset(train_mode=True)[brain_name]\n",
    "\n",
    "# number of agents\n",
    "num_agents = len(env_info.agents)\n",
    "print('Number of agents:', num_agents)\n",
    "\n",
    "# size of each action\n",
    "action_size = brain.vector_action_space_size\n",
    "print('Size of each action:', action_size)\n",
    "\n",
    "# examine the state space \n",
    "states = env_info.vector_observations\n",
    "state_size = states.shape[1]\n",
    "print('There are {} agents. Each observes a state with length: {}'.format(states.shape[0], state_size))\n",
    "print('The state for the first agent looks like:', states[0])"
   ]
  },
  {
   "cell_type": "markdown",
   "metadata": {},
   "source": [
    "### 3. Take Random Actions in the Environment\n",
    "\n",
    "In the next code cell, you will learn how to use the Python API to control the agent and receive feedback from the environment.\n",
    "\n",
    "Once this cell is executed, you will watch the agent's performance, if it selects an action at random with each time step.  A window should pop up that allows you to observe the agent, as it moves through the environment.  \n",
    "\n",
    "Of course, as part of the project, you'll have to change the code so that the agent is able to use its experience to gradually choose better actions when interacting with the environment!"
   ]
  },
  {
   "cell_type": "code",
   "execution_count": 5,
   "metadata": {},
   "outputs": [],
   "source": [
    "# env_info = env.reset(train_mode=False)[brain_name]     # reset the environment    \n",
    "# states = env_info.vector_observations                  # get the current state (for each agent)\n",
    "# scores = np.zeros(num_agents)                          # initialize the score (for each agent)\n",
    "# while True:\n",
    "#     actions = np.random.randn(num_agents, action_size) # select an action (for each agent)\n",
    "#     actions = np.clip(actions, -1, 1)                  # all actions between -1 and 1\n",
    "#     env_info = env.step(actions)[brain_name]           # send all actions to tne environment\n",
    "#     next_states = env_info.vector_observations         # get next state (for each agent)\n",
    "#     rewards = env_info.rewards                         # get reward (for each agent)\n",
    "#     dones = env_info.local_done                        # see if episode finished\n",
    "#     scores += env_info.rewards                         # update the score (for each agent)\n",
    "#     states = next_states                               # roll over states to next time step\n",
    "#     if np.any(dones):                                  # exit loop if episode finished\n",
    "#         break\n",
    "# print('Total score (averaged over agents) this episode: {}'.format(np.mean(scores)))"
   ]
  },
  {
   "cell_type": "markdown",
   "metadata": {},
   "source": [
    "### 4. It's Your Turn!\n",
    "\n",
    "Now it's your turn to train your own agent to solve the environment!  When training the environment, set `train_mode=True`, so that the line for resetting the environment looks like the following:\n",
    "```python\n",
    "env_info = env.reset(train_mode=True)[brain_name]\n",
    "```"
   ]
  },
  {
   "cell_type": "code",
   "execution_count": 6,
   "metadata": {
    "scrolled": true
   },
   "outputs": [
    {
     "name": "stdout",
     "output_type": "stream",
     "text": [
      "update 1/100. Last update in 3.814697265625e-06s\n",
      "last 100 returns: 0.6329999858513474\n",
      "update 2/100. Last update in 36.0647292137146s\n",
      "last 100 returns: 0.584624986932613\n",
      "update 3/100. Last update in 34.78214979171753s\n",
      "last 100 returns: 0.5266999882273375\n",
      "update 4/100. Last update in 35.277939796447754s\n",
      "last 100 returns: 0.5726999871991575\n",
      "update 5/100. Last update in 35.02548885345459s\n",
      "last 100 returns: 0.641299985665828\n",
      "update 6/100. Last update in 34.81574296951294s\n",
      "last 100 returns: 0.7251999837905169\n",
      "update 7/100. Last update in 34.779857873916626s\n",
      "last 100 returns: 0.865799980647862\n",
      "update 8/100. Last update in 34.66656017303467s\n",
      "last 100 returns: 0.9935999777913094\n",
      "update 9/100. Last update in 35.55491876602173s\n",
      "last 100 returns: 0.9385999790206552\n",
      "update 10/100. Last update in 35.57433009147644s\n",
      "last 100 returns: 1.069599976092577\n",
      "update 11/100. Last update in 35.64298701286316s\n",
      "last 100 returns: 1.1532999742217362\n",
      "update 12/100. Last update in 35.67920684814453s\n",
      "last 100 returns: 1.155799974165857\n",
      "update 13/100. Last update in 36.17976975440979s\n",
      "last 100 returns: 1.2536999719776214\n",
      "update 14/100. Last update in 35.91550397872925s\n",
      "last 100 returns: 1.3406999700330198\n",
      "update 15/100. Last update in 35.02353000640869s\n",
      "last 100 returns: 1.394499968830496\n",
      "update 16/100. Last update in 35.08230400085449s\n",
      "last 100 returns: 1.3619999695569276\n",
      "update 17/100. Last update in 34.946077823638916s\n",
      "last 100 returns: 1.314699970614165\n",
      "update 18/100. Last update in 34.988821029663086s\n",
      "last 100 returns: 1.2235999726504088\n",
      "update 19/100. Last update in 35.106396198272705s\n",
      "last 100 returns: 1.3743999692797662\n",
      "update 20/100. Last update in 35.00157618522644s\n",
      "last 100 returns: 1.5223999659717082\n",
      "update 21/100. Last update in 35.095760107040405s\n",
      "last 100 returns: 1.5912999644316732\n",
      "update 22/100. Last update in 35.17191505432129s\n",
      "last 100 returns: 1.6824999623931944\n",
      "update 23/100. Last update in 35.10705590248108s\n",
      "last 100 returns: 1.7294999613426625\n",
      "update 24/100. Last update in 35.12736797332764s\n",
      "last 100 returns: 1.6463999632000923\n",
      "update 25/100. Last update in 35.05099821090698s\n",
      "last 100 returns: 1.6762999625317752\n",
      "update 26/100. Last update in 35.15023994445801s\n",
      "last 100 returns: 1.781999960169196\n",
      "update 27/100. Last update in 33.01482820510864s\n",
      "last 100 returns: 2.02369995476678\n",
      "update 28/100. Last update in 35.15621209144592s\n",
      "last 100 returns: 2.192099951002747\n",
      "update 29/100. Last update in 35.33137011528015s\n",
      "last 100 returns: 2.386499946657568\n",
      "update 30/100. Last update in 35.35935020446777s\n",
      "last 100 returns: 2.616199941523373\n",
      "update 31/100. Last update in 35.35684108734131s\n",
      "last 100 returns: 2.533599943369627\n",
      "update 32/100. Last update in 35.84139680862427s\n",
      "last 100 returns: 2.662599940486252\n",
      "update 33/100. Last update in 39.57841086387634s\n",
      "last 100 returns: 2.720099939201027\n",
      "update 34/100. Last update in 35.80625677108765s\n",
      "last 100 returns: 2.81049993718043\n",
      "update 35/100. Last update in 36.40416717529297s\n",
      "last 100 returns: 2.8100999371893702\n",
      "update 36/100. Last update in 36.942481994628906s\n",
      "last 100 returns: 3.0728999313153325\n",
      "update 37/100. Last update in 36.085878133773804s\n",
      "last 100 returns: 3.1809999288991095\n",
      "update 38/100. Last update in 36.24197292327881s\n",
      "last 100 returns: 3.3302999255619943\n",
      "update 39/100. Last update in 36.39076805114746s\n",
      "last 100 returns: 3.3065999260917307\n",
      "update 40/100. Last update in 36.45240902900696s\n",
      "last 100 returns: 3.4879999220371247\n",
      "update 41/100. Last update in 36.40424990653992s\n",
      "last 100 returns: 3.836899914238602\n",
      "update 42/100. Last update in 36.26444602012634s\n",
      "last 100 returns: 4.618399896770716\n",
      "update 43/100. Last update in 37.33888626098633s\n",
      "last 100 returns: 4.943099889513105\n",
      "update 44/100. Last update in 36.69310998916626s\n",
      "last 100 returns: 5.366699880044908\n",
      "update 45/100. Last update in 36.498449087142944s\n",
      "last 100 returns: 6.426699856352061\n",
      "update 46/100. Last update in 36.305782079696655s\n",
      "last 100 returns: 6.915799845419824\n",
      "update 47/100. Last update in 37.4226279258728s\n",
      "last 100 returns: 8.067999819666147\n",
      "update 48/100. Last update in 35.72931981086731s\n",
      "last 100 returns: 9.140299795698375\n",
      "update 49/100. Last update in 36.55526566505432s\n",
      "last 100 returns: 10.501199765279889\n",
      "update 50/100. Last update in 35.996068239212036s\n",
      "last 100 returns: 12.402899722773581\n",
      "update 51/100. Last update in 36.32465100288391s\n",
      "last 100 returns: 14.29269968053326\n",
      "update 52/100. Last update in 38.80103397369385s\n",
      "last 100 returns: 16.19689963797107\n",
      "update 53/100. Last update in 36.69077801704407s\n",
      "last 100 returns: 18.573399584852158\n",
      "update 54/100. Last update in 36.914790868759155s\n",
      "last 100 returns: 21.420099521223456\n",
      "update 55/100. Last update in 37.1404447555542s\n",
      "last 100 returns: 23.43729947613552\n",
      "update 56/100. Last update in 37.111950159072876s\n",
      "last 100 returns: 25.43109943157062\n",
      "update 57/100. Last update in 36.649194955825806s\n",
      "last 100 returns: 27.22769939141348\n",
      "update 58/100. Last update in 37.02174496650696s\n",
      "last 100 returns: 28.87009935470298\n",
      "update 59/100. Last update in 36.66662883758545s\n",
      "last 100 returns: 30.22469932442531\n",
      "update 60/100. Last update in 36.81834602355957s\n",
      "last 100 returns: 31.78149928962812\n",
      "update 61/100. Last update in 36.81779885292053s\n",
      "last 100 returns: 32.85669926559552\n",
      "update 62/100. Last update in 37.413151025772095s\n",
      "last 100 returns: 33.60689924882725\n",
      "update 63/100. Last update in 36.68732500076294s\n",
      "last 100 returns: 34.18289923595265\n",
      "update 64/100. Last update in 36.907918214797974s\n",
      "last 100 returns: 34.93709921909496\n",
      "update 65/100. Last update in 36.48788404464722s\n",
      "last 100 returns: 35.435299207959325\n",
      "update 66/100. Last update in 37.652239084243774s\n",
      "last 100 returns: 36.03759919449687\n",
      "update 67/100. Last update in 36.88671898841858s\n",
      "last 100 returns: 36.66079918056727\n",
      "update 68/100. Last update in 37.864245891571045s\n",
      "last 100 returns: 36.95699917394668\n",
      "update 69/100. Last update in 36.86172318458557s\n",
      "last 100 returns: 37.42069916358218\n",
      "update 70/100. Last update in 38.02814722061157s\n",
      "last 100 returns: 37.726399156749245\n",
      "update 71/100. Last update in 37.262752056121826s\n",
      "last 100 returns: 37.900199152864516\n",
      "update 72/100. Last update in 37.310502767562866s\n",
      "last 100 returns: 37.90469915276393\n",
      "update 73/100. Last update in 37.223007917404175s\n",
      "last 100 returns: 37.893499153014275\n",
      "update 74/100. Last update in 37.439950704574585s\n",
      "last 100 returns: 37.98109915105626\n",
      "update 75/100. Last update in 37.00290775299072s\n",
      "last 100 returns: 38.13339914765209\n",
      "update 76/100. Last update in 36.787692070007324s\n",
      "last 100 returns: 38.24219914522022\n",
      "update 77/100. Last update in 36.98916292190552s\n",
      "last 100 returns: 38.350299142804\n",
      "update 78/100. Last update in 37.94669795036316s\n",
      "last 100 returns: 38.474199140034614\n",
      "update 79/100. Last update in 37.95078206062317s\n",
      "last 100 returns: 38.707899134811015\n",
      "update 80/100. Last update in 36.43534278869629s\n",
      "last 100 returns: 38.71719913460314\n",
      "update 81/100. Last update in 36.2873010635376s\n",
      "last 100 returns: 38.51279913917184\n",
      "update 82/100. Last update in 37.57887506484985s\n",
      "last 100 returns: 38.598799137249586\n",
      "update 83/100. Last update in 36.477514028549194s\n",
      "last 100 returns: 38.70229913493618\n",
      "update 84/100. Last update in 37.42281913757324s\n",
      "last 100 returns: 38.72899913433939\n",
      "update 85/100. Last update in 36.33212900161743s\n",
      "last 100 returns: 38.831899132039396\n",
      "update 86/100. Last update in 37.283875942230225s\n",
      "last 100 returns: 38.8551991315186\n",
      "update 87/100. Last update in 36.69633197784424s\n",
      "last 100 returns: 38.81899913232773\n",
      "update 88/100. Last update in 37.426968812942505s\n",
      "last 100 returns: 38.938999129645524\n",
      "update 89/100. Last update in 36.29171299934387s\n",
      "last 100 returns: 39.03059912759811\n",
      "update 90/100. Last update in 36.67937874794006s\n",
      "last 100 returns: 39.0581991269812\n",
      "update 91/100. Last update in 35.98626375198364s\n",
      "last 100 returns: 39.02899912763387\n",
      "update 92/100. Last update in 36.111764907836914s\n",
      "last 100 returns: 39.0490991271846\n",
      "update 93/100. Last update in 37.06973624229431s\n",
      "last 100 returns: 39.05299912709743\n",
      "update 94/100. Last update in 36.462040185928345s\n",
      "last 100 returns: 39.12259912554175\n",
      "update 95/100. Last update in 36.407114028930664s\n",
      "last 100 returns: 39.16069912469015\n",
      "update 96/100. Last update in 36.73030924797058s\n",
      "last 100 returns: 39.24009912291542\n",
      "update 97/100. Last update in 36.29605507850647s\n"
     ]
    },
    {
     "name": "stdout",
     "output_type": "stream",
     "text": [
      "last 100 returns: 39.20269912375137\n",
      "update 98/100. Last update in 35.68975281715393s\n",
      "last 100 returns: 39.16449912460521\n",
      "update 99/100. Last update in 35.65200996398926s\n",
      "last 100 returns: 39.16969912448898\n",
      "update 100/100. Last update in 36.80899214744568s\n",
      "last 100 returns: 39.22379912327975\n"
     ]
    }
   ],
   "source": [
    "from ppo import run_ppo\n",
    "\n",
    "run_ppo(env)"
   ]
  },
  {
   "cell_type": "code",
   "execution_count": 7,
   "metadata": {
    "scrolled": true
   },
   "outputs": [
    {
     "data": {
      "image/png": "[encoded data removed]",
      "text/plain": [
       "<Figure size 432x288 with 1 Axes>"
      ]
     },
     "metadata": {
      "needs_background": "light"
     },
     "output_type": "display_data"
    }
   ],
   "source": [
    "def copy_model_and_plot_learning_curve():\n",
    "    import pickle\n",
    "    import matplotlib.pyplot as plt\n",
    "    from collections import deque\n",
    "    import os\n",
    "    import datetime\n",
    "    import shutil\n",
    "    \n",
    "    datetime_stamp = datetime.datetime.now().strftime('%y%m%d_%H%M')\n",
    "    plot_path = f'checkpoints/{datetime_stamp}'\n",
    "    \n",
    "    if not os.path.exists(plot_path):\n",
    "        os.makedirs(plot_path)\n",
    "    else:\n",
    "        print(f'directory {plot_path} already exists')\n",
    "        return\n",
    "    \n",
    "    shutil.copyfile('scores.pickle', f'{plot_path}/scores.pickle')\n",
    "    shutil.copyfile('model_checkpoint.pickle', f'{plot_path}/model.pickle')\n",
    "\n",
    "    with open(f'{plot_path}/scores.pickle', 'rb') as f:\n",
    "        total_rewards = pickle.load(f)\n",
    "\n",
    "    smoothed = []\n",
    "    queue = deque([], maxlen=10)\n",
    "    for r in total_rewards:\n",
    "        queue.append(r)\n",
    "        smoothed.append(sum(queue)/len(queue))\n",
    "    fig,ax = plt.subplots()\n",
    "    ax.plot(smoothed)\n",
    "    ax.set_xlabel('total episodes (across all agents)')\n",
    "    plt.savefig(f'{plot_path}/learning_curve.png')\n",
    "    plt.show()\n",
    "copy_model_and_plot_learning_curve()"
   ]
  },
  {
   "cell_type": "code",
   "execution_count": 8,
   "metadata": {},
   "outputs": [
    {
     "name": "stdout",
     "output_type": "stream",
     "text": [
      "Total score (averaged over agents) this episode: 39.32249912107363\n"
     ]
    }
   ],
   "source": [
    "# Function to run agents after training\n",
    "\n",
    "def run_agents(model_path):\n",
    "    from ppo_agent import Agent\n",
    "    from ppo import HIDDEN_LAYER_SIZE\n",
    "\n",
    "    brain_name = env.brain_names[0]\n",
    "    brain = env.brains[brain_name]\n",
    "    env_info = env.reset(train_mode=False)[brain_name]\n",
    "    num_agents = len(env_info.agents)\n",
    "    n_observations = env_info.vector_observations.shape[1]\n",
    "    n_actions = brain.vector_action_space_size\n",
    "    device = torch.device(\"cuda\" if torch.cuda.is_available() else \"cpu\")    \n",
    "\n",
    "    agent = Agent(n_observations, n_actions, HIDDEN_LAYER_SIZE)\n",
    "    agent.load_state_dict(torch.load(model_path))\n",
    "\n",
    "    scores = np.zeros(num_agents)\n",
    "    while True:\n",
    "        obs = torch.Tensor(env_info.vector_observations)\n",
    "        with torch.no_grad():\n",
    "            actions, _ = agent.pi(obs)\n",
    "        env_info = env.step(actions.cpu().numpy())[brain_name]           # send all actions to the environment\n",
    "        scores += np.array(env_info.rewards)                         # update the score (for each agent)\n",
    "        if np.any(env_info.local_done):                                  # exit loop if episode finished\n",
    "            break\n",
    "    print('Total score (averaged over agents) this episode: {}'.format(np.mean(scores)))\n",
    "run_agents('model_checkpoint.pickle')"
   ]
  },
  {
   "cell_type": "code",
   "execution_count": 9,
   "metadata": {},
   "outputs": [],
   "source": [
    "env.close()"
   ]
  }
 ],
 "metadata": {
  "kernelspec": {
   "display_name": "drlnd",
   "language": "python",
   "name": "drlnd"
  },
  "language_info": {
   "codemirror_mode": {
    "name": "ipython",
    "version": 3
   },
   "file_extension": ".py",
   "mimetype": "text/x-python",
   "name": "python",
   "nbconvert_exporter": "python",
   "pygments_lexer": "ipython3",
   "version": "3.6.13"
  }
 },
 "nbformat": 4,
 "nbformat_minor": 2
}

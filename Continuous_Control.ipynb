{
 "cells": [
  {
   "cell_type": "markdown",
   "metadata": {},
   "source": [
    "# Continuous Control\n",
    "\n",
    "---\n",
    "\n",
    "In this notebook, you will learn how to use the Unity ML-Agents environment for the second project of the [Deep Reinforcement Learning Nanodegree](https://www.udacity.com/course/deep-reinforcement-learning-nanodegree--nd893) program.\n",
    "\n",
    "### 1. Start the Environment\n",
    "\n",
    "We begin by importing the necessary packages.  If the code cell below returns an error, please revisit the project instructions to double-check that you have installed [Unity ML-Agents](https://github.com/Unity-Technologies/ml-agents/blob/master/docs/Installation.md) and [NumPy](http://www.numpy.org/)."
   ]
  },
  {
   "cell_type": "code",
   "execution_count": 1,
   "metadata": {},
   "outputs": [],
   "source": [
    "from unityagents import UnityEnvironment\n",
    "import numpy as np\n",
    "import torch\n",
    "import random"
   ]
  },
  {
   "cell_type": "markdown",
   "metadata": {},
   "source": [
    "Next, we will start the environment!  **_Before running the code cell below_**, change the `file_name` parameter to match the location of the Unity environment that you downloaded.\n",
    "\n",
    "- **Mac**: `\"path/to/Reacher.app\"`\n",
    "- **Windows** (x86): `\"path/to/Reacher_Windows_x86/Reacher.exe\"`\n",
    "- **Windows** (x86_64): `\"path/to/Reacher_Windows_x86_64/Reacher.exe\"`\n",
    "- **Linux** (x86): `\"path/to/Reacher_Linux/Reacher.x86\"`\n",
    "- **Linux** (x86_64): `\"path/to/Reacher_Linux/Reacher.x86_64\"`\n",
    "- **Linux** (x86, headless): `\"path/to/Reacher_Linux_NoVis/Reacher.x86\"`\n",
    "- **Linux** (x86_64, headless): `\"path/to/Reacher_Linux_NoVis/Reacher.x86_64\"`\n",
    "\n",
    "For instance, if you are using a Mac, then you downloaded `Reacher.app`.  If this file is in the same folder as the notebook, then the line below should appear as follows:\n",
    "```\n",
    "env = UnityEnvironment(file_name=\"Reacher.app\")\n",
    "```"
   ]
  },
  {
   "cell_type": "code",
   "execution_count": 2,
   "metadata": {},
   "outputs": [
    {
     "name": "stderr",
     "output_type": "stream",
     "text": [
      "INFO:unityagents:\n",
      "'Academy' started successfully!\n",
      "Unity Academy name: Academy\n",
      "        Number of Brains: 1\n",
      "        Number of External Brains : 1\n",
      "        Lesson number : 0\n",
      "        Reset Parameters :\n",
      "\t\tgoal_size -> 5.0\n",
      "\t\tgoal_speed -> 1.0\n",
      "Unity brain name: ReacherBrain\n",
      "        Number of Visual Observations (per agent): 0\n",
      "        Vector Observation space type: continuous\n",
      "        Vector Observation space size (per agent): 33\n",
      "        Number of stacked Vector Observation: 1\n",
      "        Vector Action space type: continuous\n",
      "        Vector Action space size (per agent): 4\n",
      "        Vector Action descriptions: , , , \n"
     ]
    }
   ],
   "source": [
    "env = UnityEnvironment(file_name='Reacher_multi.app')"
   ]
  },
  {
   "cell_type": "markdown",
   "metadata": {},
   "source": [
    "Environments contain **_brains_** which are responsible for deciding the actions of their associated agents. Here we check for the first brain available, and set it as the default brain we will be controlling from Python."
   ]
  },
  {
   "cell_type": "code",
   "execution_count": 3,
   "metadata": {},
   "outputs": [],
   "source": [
    "# get the default brain\n",
    "brain_name = env.brain_names[0]\n",
    "brain = env.brains[brain_name]"
   ]
  },
  {
   "cell_type": "markdown",
   "metadata": {},
   "source": [
    "### 2. Examine the State and Action Spaces\n",
    "\n",
    "In this environment, a double-jointed arm can move to target locations. A reward of `+0.1` is provided for each step that the agent's hand is in the goal location. Thus, the goal of your agent is to maintain its position at the target location for as many time steps as possible.\n",
    "\n",
    "The observation space consists of `33` variables corresponding to position, rotation, velocity, and angular velocities of the arm.  Each action is a vector with four numbers, corresponding to torque applicable to two joints.  Every entry in the action vector must be a number between `-1` and `1`.\n",
    "\n",
    "Run the code cell below to print some information about the environment."
   ]
  },
  {
   "cell_type": "code",
   "execution_count": 4,
   "metadata": {},
   "outputs": [
    {
     "name": "stdout",
     "output_type": "stream",
     "text": [
      "Number of agents: 20\n",
      "Size of each action: 4\n",
      "There are 20 agents. Each observes a state with length: 33\n",
      "The state for the first agent looks like: [ 0.00000000e+00 -4.00000000e+00  0.00000000e+00  1.00000000e+00\n",
      " -0.00000000e+00 -0.00000000e+00 -4.37113883e-08  0.00000000e+00\n",
      "  0.00000000e+00  0.00000000e+00  0.00000000e+00  0.00000000e+00\n",
      "  0.00000000e+00  0.00000000e+00 -1.00000000e+01  0.00000000e+00\n",
      "  1.00000000e+00 -0.00000000e+00 -0.00000000e+00 -4.37113883e-08\n",
      "  0.00000000e+00  0.00000000e+00  0.00000000e+00  0.00000000e+00\n",
      "  0.00000000e+00  0.00000000e+00  5.75471878e+00 -1.00000000e+00\n",
      "  5.55726624e+00  0.00000000e+00  1.00000000e+00  0.00000000e+00\n",
      " -1.68164849e-01]\n"
     ]
    }
   ],
   "source": [
    "# reset the environment\n",
    "env_info = env.reset(train_mode=True)[brain_name]\n",
    "\n",
    "# number of agents\n",
    "num_agents = len(env_info.agents)\n",
    "print('Number of agents:', num_agents)\n",
    "\n",
    "# size of each action\n",
    "action_size = brain.vector_action_space_size\n",
    "print('Size of each action:', action_size)\n",
    "\n",
    "# examine the state space \n",
    "states = env_info.vector_observations\n",
    "state_size = states.shape[1]\n",
    "print('There are {} agents. Each observes a state with length: {}'.format(states.shape[0], state_size))\n",
    "print('The state for the first agent looks like:', states[0])"
   ]
  },
  {
   "cell_type": "markdown",
   "metadata": {},
   "source": [
    "### 3. Take Random Actions in the Environment\n",
    "\n",
    "In the next code cell, you will learn how to use the Python API to control the agent and receive feedback from the environment.\n",
    "\n",
    "Once this cell is executed, you will watch the agent's performance, if it selects an action at random with each time step.  A window should pop up that allows you to observe the agent, as it moves through the environment.  \n",
    "\n",
    "Of course, as part of the project, you'll have to change the code so that the agent is able to use its experience to gradually choose better actions when interacting with the environment!"
   ]
  },
  {
   "cell_type": "code",
   "execution_count": 5,
   "metadata": {},
   "outputs": [],
   "source": [
    "# env_info = env.reset(train_mode=False)[brain_name]     # reset the environment    \n",
    "# states = env_info.vector_observations                  # get the current state (for each agent)\n",
    "# scores = np.zeros(num_agents)                          # initialize the score (for each agent)\n",
    "# while True:\n",
    "#     actions = np.random.randn(num_agents, action_size) # select an action (for each agent)\n",
    "#     actions = np.clip(actions, -1, 1)                  # all actions between -1 and 1\n",
    "#     env_info = env.step(actions)[brain_name]           # send all actions to tne environment\n",
    "#     next_states = env_info.vector_observations         # get next state (for each agent)\n",
    "#     rewards = env_info.rewards                         # get reward (for each agent)\n",
    "#     dones = env_info.local_done                        # see if episode finished\n",
    "#     scores += env_info.rewards                         # update the score (for each agent)\n",
    "#     states = next_states                               # roll over states to next time step\n",
    "#     if np.any(dones):                                  # exit loop if episode finished\n",
    "#         break\n",
    "# print('Total score (averaged over agents) this episode: {}'.format(np.mean(scores)))"
   ]
  },
  {
   "cell_type": "markdown",
   "metadata": {},
   "source": [
    "### 4. It's Your Turn!\n",
    "\n",
    "Now it's your turn to train your own agent to solve the environment!  When training the environment, set `train_mode=True`, so that the line for resetting the environment looks like the following:\n",
    "```python\n",
    "env_info = env.reset(train_mode=True)[brain_name]\n",
    "```"
   ]
  },
  {
   "cell_type": "code",
   "execution_count": 7,
   "metadata": {
    "scrolled": true
   },
   "outputs": [
    {
     "name": "stdout",
     "output_type": "stream",
     "text": [
      "update 1/48. Last update in 4.0531158447265625e-06s\n",
      "last 100 returns: 0.603999986499548\n",
      "update 2/48. Last update in 34.02759408950806s\n",
      "last 100 returns: 0.5707499872427434\n",
      "update 3/48. Last update in 34.75379395484924s\n",
      "last 100 returns: 0.623499986063689\n",
      "update 4/48. Last update in 34.91438603401184s\n",
      "last 100 returns: 0.6528999854065478\n",
      "update 5/48. Last update in 34.52508807182312s\n",
      "last 100 returns: 0.7131999840587377\n",
      "update 6/48. Last update in 34.465521812438965s\n",
      "last 100 returns: 0.6847999846935272\n",
      "update 7/48. Last update in 34.457813024520874s\n",
      "last 100 returns: 0.748099983278662\n",
      "update 8/48. Last update in 35.470999002456665s\n",
      "last 100 returns: 0.9174999794922769\n",
      "update 9/48. Last update in 34.8219850063324s\n",
      "last 100 returns: 1.085099975746125\n",
      "update 10/48. Last update in 34.75032305717468s\n",
      "last 100 returns: 1.3157999705895782\n",
      "update 11/48. Last update in 34.675771951675415s\n",
      "last 100 returns: 1.3402999700419604\n",
      "update 12/48. Last update in 35.20878005027771s\n",
      "last 100 returns: 1.3628999695368111\n",
      "update 13/48. Last update in 34.960461139678955s\n",
      "last 100 returns: 1.423299968186766\n",
      "update 14/48. Last update in 34.56822180747986s\n",
      "last 100 returns: 1.5514999653212727\n",
      "update 15/48. Last update in 34.46496796607971s\n",
      "last 100 returns: 1.7968999598361552\n",
      "update 16/48. Last update in 35.08368682861328s\n",
      "last 100 returns: 1.9198999570868909\n",
      "update 17/48. Last update in 34.77957820892334s\n",
      "last 100 returns: 2.142699952106923\n",
      "update 18/48. Last update in 34.32998704910278s\n",
      "last 100 returns: 2.3162999482266606\n",
      "update 19/48. Last update in 34.73099112510681s\n",
      "last 100 returns: 2.439299945477396\n",
      "update 20/48. Last update in 34.55391716957092s\n",
      "last 100 returns: 2.650599940754473\n",
      "update 21/48. Last update in 34.778555154800415s\n",
      "last 100 returns: 3.0705999313667416\n",
      "update 22/48. Last update in 34.92144203186035s\n",
      "last 100 returns: 3.4730999223701655\n",
      "update 23/48. Last update in 35.31709408760071s\n",
      "last 100 returns: 3.641599918603897\n",
      "update 24/48. Last update in 34.71310496330261s\n",
      "last 100 returns: 3.7308999166078864\n",
      "update 25/48. Last update in 34.65875291824341s\n",
      "last 100 returns: 3.9311999121308325\n",
      "update 26/48. Last update in 34.89241695404053s\n",
      "last 100 returns: 4.0470999095402655\n",
      "update 27/48. Last update in 34.91240191459656s\n",
      "last 100 returns: 4.452199900485575\n",
      "update 28/48. Last update in 34.75873780250549s\n",
      "last 100 returns: 4.56709989791736\n",
      "update 29/48. Last update in 34.94085192680359s\n",
      "last 100 returns: 4.73619989413768\n",
      "update 30/48. Last update in 34.61732196807861s\n",
      "last 100 returns: 4.942099889535457\n",
      "update 31/48. Last update in 34.17290377616882s\n",
      "last 100 returns: 5.171999884396792\n",
      "update 32/48. Last update in 33.330857038497925s\n",
      "last 100 returns: 5.776799870878458\n",
      "update 33/48. Last update in 35.0175039768219s\n",
      "last 100 returns: 5.798699870388955\n",
      "update 34/48. Last update in 34.87887215614319s\n",
      "last 100 returns: 6.072999864257872\n",
      "update 35/48. Last update in 35.11995816230774s\n",
      "last 100 returns: 6.379199857413769\n",
      "update 36/48. Last update in 35.04856300354004s\n",
      "last 100 returns: 6.845499846991151\n",
      "update 37/48. Last update in 34.97387909889221s\n",
      "last 100 returns: 6.632499851752073\n",
      "update 38/48. Last update in 34.84686279296875s\n",
      "last 100 returns: 6.857399846725166\n",
      "update 39/48. Last update in 34.652019023895264s\n",
      "last 100 returns: 7.204599838964641\n",
      "update 40/48. Last update in 34.96675992012024s\n",
      "last 100 returns: 7.566699830871076\n",
      "update 41/48. Last update in 34.737720012664795s\n",
      "last 100 returns: 8.02039982073009\n",
      "update 42/48. Last update in 34.42100214958191s\n",
      "last 100 returns: 7.826299825068563\n",
      "update 43/48. Last update in 34.365395069122314s\n",
      "last 100 returns: 7.621899829637259\n",
      "update 44/48. Last update in 34.505910873413086s\n",
      "last 100 returns: 9.12589979602024\n",
      "update 45/48. Last update in 34.599098920822144s\n",
      "last 100 returns: 9.726999782584608\n",
      "update 46/48. Last update in 34.65488409996033s\n",
      "last 100 returns: 9.887099779006094\n",
      "update 47/48. Last update in 34.65638208389282s\n",
      "last 100 returns: 10.167099772747607\n",
      "update 48/48. Last update in 34.58019208908081s\n",
      "last 100 returns: 10.38579976785928\n"
     ]
    }
   ],
   "source": [
    "from ppo import run_ppo\n",
    "\n",
    "run_ppo(env)"
   ]
  },
  {
   "cell_type": "code",
   "execution_count": null,
   "metadata": {
    "scrolled": true
   },
   "outputs": [],
   "source": [
    "def copy_model_and_plot_learning_curve():\n",
    "    import pickle\n",
    "    import matplotlib.pyplot as plt\n",
    "    from collections import deque\n",
    "    import os\n",
    "    import datetime\n",
    "    import shutil\n",
    "    \n",
    "    datetime_stamp = datetime.datetime.now().strftime('%y%m%d_%H%M')\n",
    "    plot_path = f'checkpoints/{datetime_stamp}'\n",
    "    \n",
    "    if not os.path.exists(plot_path):\n",
    "        os.makedirs(plot_path)\n",
    "    else:\n",
    "        print(f'directory {plot_path} already exists')\n",
    "        return\n",
    "    \n",
    "    shutil.copyfile('scores.pickle', f'{plot_path}/scores.pickle')\n",
    "    shutil.copyfile('model_checkpoint.pickle', f'{plot_path}/model.pickle')\n",
    "\n",
    "    with open(f'{plot_path}/scores.pickle', 'rb') as f:\n",
    "        total_rewards = pickle.load(f)\n",
    "\n",
    "    smoothed = []\n",
    "    queue = deque([], maxlen=10)\n",
    "    for r in total_rewards:\n",
    "        queue.append(r)\n",
    "        smoothed.append(sum(queue)/len(queue))\n",
    "    fig,ax = plt.subplots()\n",
    "    ax.plot(smoothed)\n",
    "    ax.set_xlabel('episodes')\n",
    "    plt.savefig(f'{plot_path}/learning_curve.png')\n",
    "    plt.show()\n",
    "copy_model_and_plot_learning_curve()"
   ]
  },
  {
   "cell_type": "code",
   "execution_count": null,
   "metadata": {},
   "outputs": [],
   "source": [
    "# Function to run agents after training\n",
    "\n",
    "def run_agents(model_path):\n",
    "    from ppo_agent import Agent\n",
    "    from ppo import HIDDEN_LAYER_SIZE\n",
    "\n",
    "    brain_name = env.brain_names[0]\n",
    "    brain = env.brains[brain_name]\n",
    "    env_info = env.reset(train_mode=False)[brain_name]\n",
    "    num_agents = len(env_info.agents)\n",
    "    n_observations = env_info.vector_observations.shape[1]\n",
    "    n_actions = brain.vector_action_space_size\n",
    "    device = torch.device(\"cuda\" if torch.cuda.is_available() else \"cpu\")    \n",
    "\n",
    "    agent = Agent(n_observations, n_actions, HIDDEN_LAYER_SIZE)\n",
    "    agent.load_state_dict(torch.load(model_path))\n",
    "\n",
    "    scores = np.zeros(num_agents)\n",
    "    while True:\n",
    "        obs = torch.Tensor(env_info.vector_observations)\n",
    "        with torch.no_grad():\n",
    "            actions, _, _, _ = agent.get_action_and_value(obs)\n",
    "        env_info = env.step(actions.cpu().numpy())[brain_name]           # send all actions to the environment\n",
    "        scores += np.array(env_info.rewards)                         # update the score (for each agent)\n",
    "        if np.any(env_info.local_done):                                  # exit loop if episode finished\n",
    "            break\n",
    "    print('Total score (averaged over agents) this episode: {}'.format(np.mean(scores)))\n",
    "run_agents('model_checkpoint.pickle')"
   ]
  },
  {
   "cell_type": "code",
   "execution_count": null,
   "metadata": {},
   "outputs": [],
   "source": [
    "env.close()"
   ]
  }
 ],
 "metadata": {
  "kernelspec": {
   "display_name": "drlnd",
   "language": "python",
   "name": "drlnd"
  },
  "language_info": {
   "codemirror_mode": {
    "name": "ipython",
    "version": 3
   },
   "file_extension": ".py",
   "mimetype": "text/x-python",
   "name": "python",
   "nbconvert_exporter": "python",
   "pygments_lexer": "ipython3",
   "version": "3.6.13"
  }
 },
 "nbformat": 4,
 "nbformat_minor": 2
}

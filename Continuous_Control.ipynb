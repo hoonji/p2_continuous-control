{
 "cells": [
  {
   "cell_type": "markdown",
   "metadata": {},
   "source": [
    "# Continuous Control\n",
    "\n",
    "---\n",
    "\n",
    "In this notebook, you will learn how to use the Unity ML-Agents environment for the second project of the [Deep Reinforcement Learning Nanodegree](https://www.udacity.com/course/deep-reinforcement-learning-nanodegree--nd893) program.\n",
    "\n",
    "### 1. Start the Environment\n",
    "\n",
    "We begin by importing the necessary packages.  If the code cell below returns an error, please revisit the project instructions to double-check that you have installed [Unity ML-Agents](https://github.com/Unity-Technologies/ml-agents/blob/master/docs/Installation.md) and [NumPy](http://www.numpy.org/)."
   ]
  },
  {
   "cell_type": "code",
   "execution_count": 1,
   "metadata": {},
   "outputs": [],
   "source": [
    "from unityagents import UnityEnvironment\n",
    "import numpy as np\n",
    "import torch\n",
    "import random"
   ]
  },
  {
   "cell_type": "markdown",
   "metadata": {},
   "source": [
    "Next, we will start the environment!  **_Before running the code cell below_**, change the `file_name` parameter to match the location of the Unity environment that you downloaded.\n",
    "\n",
    "- **Mac**: `\"path/to/Reacher.app\"`\n",
    "- **Windows** (x86): `\"path/to/Reacher_Windows_x86/Reacher.exe\"`\n",
    "- **Windows** (x86_64): `\"path/to/Reacher_Windows_x86_64/Reacher.exe\"`\n",
    "- **Linux** (x86): `\"path/to/Reacher_Linux/Reacher.x86\"`\n",
    "- **Linux** (x86_64): `\"path/to/Reacher_Linux/Reacher.x86_64\"`\n",
    "- **Linux** (x86, headless): `\"path/to/Reacher_Linux_NoVis/Reacher.x86\"`\n",
    "- **Linux** (x86_64, headless): `\"path/to/Reacher_Linux_NoVis/Reacher.x86_64\"`\n",
    "\n",
    "For instance, if you are using a Mac, then you downloaded `Reacher.app`.  If this file is in the same folder as the notebook, then the line below should appear as follows:\n",
    "```\n",
    "env = UnityEnvironment(file_name=\"Reacher.app\")\n",
    "```"
   ]
  },
  {
   "cell_type": "code",
   "execution_count": 2,
   "metadata": {},
   "outputs": [
    {
     "name": "stderr",
     "output_type": "stream",
     "text": [
      "INFO:unityagents:\n",
      "'Academy' started successfully!\n",
      "Unity Academy name: Academy\n",
      "        Number of Brains: 1\n",
      "        Number of External Brains : 1\n",
      "        Lesson number : 0\n",
      "        Reset Parameters :\n",
      "\t\tgoal_speed -> 1.0\n",
      "\t\tgoal_size -> 5.0\n",
      "Unity brain name: ReacherBrain\n",
      "        Number of Visual Observations (per agent): 0\n",
      "        Vector Observation space type: continuous\n",
      "        Vector Observation space size (per agent): 33\n",
      "        Number of stacked Vector Observation: 1\n",
      "        Vector Action space type: continuous\n",
      "        Vector Action space size (per agent): 4\n",
      "        Vector Action descriptions: , , , \n"
     ]
    }
   ],
   "source": [
    "env = UnityEnvironment(file_name='Reacher_multi.app')"
   ]
  },
  {
   "cell_type": "markdown",
   "metadata": {},
   "source": [
    "Environments contain **_brains_** which are responsible for deciding the actions of their associated agents. Here we check for the first brain available, and set it as the default brain we will be controlling from Python."
   ]
  },
  {
   "cell_type": "code",
   "execution_count": 3,
   "metadata": {},
   "outputs": [],
   "source": [
    "# get the default brain\n",
    "brain_name = env.brain_names[0]\n",
    "brain = env.brains[brain_name]"
   ]
  },
  {
   "cell_type": "markdown",
   "metadata": {},
   "source": [
    "### 2. Examine the State and Action Spaces\n",
    "\n",
    "In this environment, a double-jointed arm can move to target locations. A reward of `+0.1` is provided for each step that the agent's hand is in the goal location. Thus, the goal of your agent is to maintain its position at the target location for as many time steps as possible.\n",
    "\n",
    "The observation space consists of `33` variables corresponding to position, rotation, velocity, and angular velocities of the arm.  Each action is a vector with four numbers, corresponding to torque applicable to two joints.  Every entry in the action vector must be a number between `-1` and `1`.\n",
    "\n",
    "Run the code cell below to print some information about the environment."
   ]
  },
  {
   "cell_type": "code",
   "execution_count": 4,
   "metadata": {},
   "outputs": [
    {
     "name": "stdout",
     "output_type": "stream",
     "text": [
      "Number of agents: 20\n",
      "Size of each action: 4\n",
      "There are 20 agents. Each observes a state with length: 33\n",
      "The state for the first agent looks like: [ 0.00000000e+00 -4.00000000e+00  0.00000000e+00  1.00000000e+00\n",
      " -0.00000000e+00 -0.00000000e+00 -4.37113883e-08  0.00000000e+00\n",
      "  0.00000000e+00  0.00000000e+00  0.00000000e+00  0.00000000e+00\n",
      "  0.00000000e+00  0.00000000e+00 -1.00000000e+01  0.00000000e+00\n",
      "  1.00000000e+00 -0.00000000e+00 -0.00000000e+00 -4.37113883e-08\n",
      "  0.00000000e+00  0.00000000e+00  0.00000000e+00  0.00000000e+00\n",
      "  0.00000000e+00  0.00000000e+00  4.81452179e+00 -1.00000000e+00\n",
      "  6.38908386e+00  0.00000000e+00  1.00000000e+00  0.00000000e+00\n",
      "  8.53890657e-01]\n"
     ]
    }
   ],
   "source": [
    "# reset the environment\n",
    "env_info = env.reset(train_mode=True)[brain_name]\n",
    "\n",
    "# number of agents\n",
    "num_agents = len(env_info.agents)\n",
    "print('Number of agents:', num_agents)\n",
    "\n",
    "# size of each action\n",
    "action_size = brain.vector_action_space_size\n",
    "print('Size of each action:', action_size)\n",
    "\n",
    "# examine the state space \n",
    "states = env_info.vector_observations\n",
    "state_size = states.shape[1]\n",
    "print('There are {} agents. Each observes a state with length: {}'.format(states.shape[0], state_size))\n",
    "print('The state for the first agent looks like:', states[0])"
   ]
  },
  {
   "cell_type": "markdown",
   "metadata": {},
   "source": [
    "### 3. Take Random Actions in the Environment\n",
    "\n",
    "In the next code cell, you will learn how to use the Python API to control the agent and receive feedback from the environment.\n",
    "\n",
    "Once this cell is executed, you will watch the agent's performance, if it selects an action at random with each time step.  A window should pop up that allows you to observe the agent, as it moves through the environment.  \n",
    "\n",
    "Of course, as part of the project, you'll have to change the code so that the agent is able to use its experience to gradually choose better actions when interacting with the environment!"
   ]
  },
  {
   "cell_type": "code",
   "execution_count": 5,
   "metadata": {},
   "outputs": [],
   "source": [
    "# env_info = env.reset(train_mode=False)[brain_name]     # reset the environment    \n",
    "# states = env_info.vector_observations                  # get the current state (for each agent)\n",
    "# scores = np.zeros(num_agents)                          # initialize the score (for each agent)\n",
    "# while True:\n",
    "#     actions = np.random.randn(num_agents, action_size) # select an action (for each agent)\n",
    "#     actions = np.clip(actions, -1, 1)                  # all actions between -1 and 1\n",
    "#     env_info = env.step(actions)[brain_name]           # send all actions to tne environment\n",
    "#     next_states = env_info.vector_observations         # get next state (for each agent)\n",
    "#     rewards = env_info.rewards                         # get reward (for each agent)\n",
    "#     dones = env_info.local_done                        # see if episode finished\n",
    "#     scores += env_info.rewards                         # update the score (for each agent)\n",
    "#     states = next_states                               # roll over states to next time step\n",
    "#     if np.any(dones):                                  # exit loop if episode finished\n",
    "#         break\n",
    "# print('Total score (averaged over agents) this episode: {}'.format(np.mean(scores)))"
   ]
  },
  {
   "cell_type": "markdown",
   "metadata": {},
   "source": [
    "### 4. It's Your Turn!\n",
    "\n",
    "Now it's your turn to train your own agent to solve the environment!  When training the environment, set `train_mode=True`, so that the line for resetting the environment looks like the following:\n",
    "```python\n",
    "env_info = env.reset(train_mode=True)[brain_name]\n",
    "```"
   ]
  },
  {
   "cell_type": "code",
   "execution_count": 19,
   "metadata": {
    "scrolled": true
   },
   "outputs": [
    {
     "name": "stdout",
     "output_type": "stream",
     "text": [
      "update 1/97. Last update in 3.0994415283203125e-06s\n",
      "last 100 returns: 0.08649999806657434\n",
      "update 2/97. Last update in 30.02979803085327s\n",
      "last 100 returns: 0.08424999811686576\n",
      "update 3/97. Last update in 29.78693914413452s\n",
      "last 100 returns: 0.11199999749660491\n",
      "update 4/97. Last update in 30.275638103485107s\n",
      "last 100 returns: 0.11359999746084214\n",
      "update 5/97. Last update in 29.77075695991516s\n",
      "last 100 returns: 0.1846999958716333\n",
      "update 6/97. Last update in 29.097908973693848s\n",
      "last 100 returns: 0.2659999940544367\n",
      "update 7/97. Last update in 29.80411410331726s\n",
      "last 100 returns: 0.39759999111294747\n",
      "update 8/97. Last update in 29.228743076324463s\n",
      "last 100 returns: 0.5635999874025583\n",
      "update 9/97. Last update in 29.141201972961426s\n",
      "last 100 returns: 0.822699981611222\n",
      "update 10/97. Last update in 29.725860834121704s\n",
      "last 100 returns: 1.1415999744832517\n",
      "update 11/97. Last update in 29.617244958877563s\n",
      "last 100 returns: 1.5194999660365283\n",
      "update 12/97. Last update in 29.87836790084839s\n",
      "last 100 returns: 1.9681999560073018\n",
      "update 13/97. Last update in 28.59612202644348s\n",
      "last 100 returns: 2.4091999461501836\n",
      "update 14/97. Last update in 29.490570068359375s\n",
      "last 100 returns: 2.981399933360517\n",
      "update 15/97. Last update in 26.623559951782227s\n",
      "last 100 returns: 3.858099913764745\n",
      "update 16/97. Last update in 27.071816205978394s\n",
      "last 100 returns: 4.728999894298613\n",
      "update 17/97. Last update in 28.140744924545288s\n",
      "last 100 returns: 5.689399872832\n",
      "update 18/97. Last update in 26.701236963272095s\n",
      "last 100 returns: 6.737699849400669\n",
      "update 19/97. Last update in 27.141202926635742s\n",
      "last 100 returns: 8.089299819190055\n",
      "update 20/97. Last update in 26.02889609336853s\n",
      "last 100 returns: 9.832299780230969\n",
      "update 21/97. Last update in 27.09184193611145s\n",
      "last 100 returns: 11.8441997352615\n",
      "update 22/97. Last update in 27.788499116897583s\n",
      "last 100 returns: 15.070699663143605\n",
      "update 23/97. Last update in 28.310022830963135s\n",
      "last 100 returns: 16.711299626473338\n",
      "update 24/97. Last update in 27.354747772216797s\n",
      "last 100 returns: 17.901299599874765\n",
      "update 25/97. Last update in 27.108487129211426s\n",
      "last 100 returns: 20.30119954623282\n",
      "update 26/97. Last update in 26.33869981765747s\n",
      "last 100 returns: 22.574499495420604\n",
      "update 27/97. Last update in 26.035887002944946s\n",
      "last 100 returns: 23.818199467621742\n",
      "update 28/97. Last update in 26.427563905715942s\n",
      "last 100 returns: 25.252399435564875\n",
      "update 29/97. Last update in 26.15548014640808s\n",
      "last 100 returns: 26.371199410557747\n",
      "update 30/97. Last update in 26.003603219985962s\n",
      "last 100 returns: 27.312999389506878\n",
      "update 31/97. Last update in 26.081909894943237s\n",
      "last 100 returns: 27.919899375941604\n",
      "update 32/97. Last update in 26.132526636123657s\n",
      "last 100 returns: 28.83199935555458\n",
      "update 33/97. Last update in 25.981549978256226s\n",
      "last 100 returns: 29.539799339734017\n",
      "update 34/97. Last update in 26.342795848846436s\n",
      "last 100 returns: 30.500399318262936\n",
      "update 35/97. Last update in 26.129014015197754s\n",
      "last 100 returns: 31.05569930585101\n",
      "update 36/97. Last update in 26.195285081863403s\n",
      "last 100 returns: 31.54859929483384\n",
      "update 37/97. Last update in 26.188082218170166s\n",
      "last 100 returns: 31.926099286396056\n",
      "update 38/97. Last update in 26.243207216262817s\n",
      "last 100 returns: 31.916999286599456\n",
      "update 39/97. Last update in 26.208489894866943s\n",
      "last 100 returns: 32.21189928000793\n",
      "update 40/97. Last update in 26.20122194290161s\n",
      "last 100 returns: 32.73329926835373\n",
      "update 41/97. Last update in 26.219609260559082s\n",
      "last 100 returns: 33.16309925874695\n",
      "update 42/97. Last update in 26.13876509666443s\n",
      "last 100 returns: 33.30899925548583\n",
      "update 43/97. Last update in 26.31166410446167s\n",
      "last 100 returns: 33.88869924252853\n",
      "update 44/97. Last update in 26.27554726600647s\n",
      "last 100 returns: 35.100999215431514\n",
      "update 45/97. Last update in 26.244845151901245s\n",
      "last 100 returns: 35.52819920588285\n",
      "update 46/97. Last update in 26.225754976272583s\n",
      "last 100 returns: 35.547999205440284\n",
      "update 47/97. Last update in 26.246237993240356s\n",
      "last 100 returns: 35.993099195491524\n",
      "update 48/97. Last update in 26.237369060516357s\n",
      "last 100 returns: 36.82029917700216\n",
      "update 49/97. Last update in 26.235588788986206s\n",
      "last 100 returns: 36.95699917394668\n",
      "update 50/97. Last update in 26.1977059841156s\n",
      "last 100 returns: 37.36999916471541\n",
      "update 51/97. Last update in 26.176359176635742s\n",
      "last 100 returns: 37.35109916513786\n",
      "update 52/97. Last update in 26.28767991065979s\n",
      "last 100 returns: 37.3378991654329\n",
      "update 53/97. Last update in 26.213982105255127s\n",
      "last 100 returns: 37.528599161170426\n",
      "update 54/97. Last update in 26.28862476348877s\n",
      "last 100 returns: 37.61539915923029\n",
      "update 55/97. Last update in 26.112739086151123s\n",
      "last 100 returns: 37.800499155092986\n",
      "update 56/97. Last update in 26.538037061691284s\n",
      "last 100 returns: 38.226599145568905\n",
      "update 57/97. Last update in 27.332289934158325s\n",
      "last 100 returns: 38.14499914739281\n",
      "update 58/97. Last update in 27.154494047164917s\n",
      "last 100 returns: 38.00589915050194\n",
      "update 59/97. Last update in 26.203335285186768s\n",
      "last 100 returns: 38.15549914715812\n",
      "update 60/97. Last update in 26.410789966583252s\n",
      "last 100 returns: 38.21459914583713\n",
      "update 61/97. Last update in 26.592655897140503s\n",
      "last 100 returns: 37.914499152544884\n",
      "update 62/97. Last update in 26.59097409248352s\n",
      "last 100 returns: 37.80759915493429\n",
      "update 63/97. Last update in 26.188910245895386s\n",
      "last 100 returns: 37.95689915159717\n",
      "update 64/97. Last update in 26.2682843208313s\n",
      "last 100 returns: 37.814999154768884\n",
      "update 65/97. Last update in 26.171760082244873s\n",
      "last 100 returns: 37.8035991550237\n",
      "update 66/97. Last update in 26.16610884666443s\n",
      "last 100 returns: 38.00069915061817\n",
      "update 67/97. Last update in 26.1360080242157s\n",
      "last 100 returns: 38.0963991484791\n",
      "update 68/97. Last update in 26.240895986557007s\n",
      "last 100 returns: 38.37659914221614\n",
      "update 69/97. Last update in 26.233762979507446s\n",
      "last 100 returns: 38.42289914118126\n",
      "update 70/97. Last update in 26.27005624771118s\n",
      "last 100 returns: 38.34809914285317\n",
      "update 71/97. Last update in 26.390000104904175s\n",
      "last 100 returns: 38.1185991479829\n",
      "update 72/97. Last update in 26.263997077941895s\n",
      "last 100 returns: 37.96349915144965\n",
      "update 73/97. Last update in 26.38751983642578s\n",
      "last 100 returns: 38.054599149413406\n",
      "update 74/97. Last update in 26.31307291984558s\n",
      "last 100 returns: 38.25179914500564\n",
      "update 75/97. Last update in 26.36142897605896s\n",
      "last 100 returns: 38.361499142553654\n",
      "update 76/97. Last update in 26.342742919921875s\n",
      "last 100 returns: 38.12279914788902\n",
      "update 77/97. Last update in 26.402976989746094s\n",
      "last 100 returns: 38.01969915019348\n",
      "update 78/97. Last update in 26.289520263671875s\n",
      "last 100 returns: 38.16429914696142\n",
      "update 79/97. Last update in 26.352482795715332s\n",
      "last 100 returns: 38.21899914573878\n",
      "update 80/97. Last update in 26.380605936050415s\n",
      "last 100 returns: 38.17769914666191\n",
      "update 81/97. Last update in 26.387898921966553s\n",
      "last 100 returns: 37.92609915228561\n",
      "update 82/97. Last update in 26.37764883041382s\n",
      "last 100 returns: 37.85009915398434\n",
      "update 83/97. Last update in 26.34314274787903s\n",
      "last 100 returns: 37.96629915138706\n",
      "update 84/97. Last update in 26.614661693572998s\n",
      "last 100 returns: 38.10289914833382\n",
      "update 85/97. Last update in 26.798957109451294s\n",
      "last 100 returns: 38.031399149931964\n",
      "update 86/97. Last update in 26.31617283821106s\n",
      "last 100 returns: 38.15819914709777\n",
      "update 87/97. Last update in 26.34288215637207s\n",
      "last 100 returns: 38.20219914611429\n",
      "update 88/97. Last update in 26.381871223449707s\n",
      "last 100 returns: 38.04629914959892\n",
      "update 89/97. Last update in 26.264397144317627s\n",
      "last 100 returns: 38.12639914780855\n",
      "update 90/97. Last update in 26.306774616241455s\n",
      "last 100 returns: 38.31009914370254\n",
      "update 91/97. Last update in 26.261411905288696s\n",
      "last 100 returns: 38.21349914586172\n",
      "update 92/97. Last update in 26.316590785980225s\n",
      "last 100 returns: 38.11929914796725\n",
      "update 93/97. Last update in 26.36552405357361s\n",
      "last 100 returns: 37.780799155533316\n",
      "update 94/97. Last update in 26.312582969665527s\n",
      "last 100 returns: 37.72809915671125\n",
      "update 95/97. Last update in 26.366048097610474s\n",
      "last 100 returns: 37.7941991552338\n",
      "update 96/97. Last update in 26.338047981262207s\n",
      "last 100 returns: 37.87199915349483\n",
      "update 97/97. Last update in 26.321983098983765s\n"
     ]
    },
    {
     "name": "stdout",
     "output_type": "stream",
     "text": [
      "last 100 returns: 37.9263991522789\n"
     ]
    }
   ],
   "source": [
    "from ppo import run_ppo\n",
    "\n",
    "run_ppo(env)"
   ]
  },
  {
   "cell_type": "code",
   "execution_count": 9,
   "metadata": {
    "scrolled": true
   },
   "outputs": [
    {
     "data": {
      "image/png": "[encoded data removed]",
      "text/plain": [
       "<Figure size 432x288 with 1 Axes>"
      ]
     },
     "metadata": {
      "needs_background": "light"
     },
     "output_type": "display_data"
    }
   ],
   "source": [
    "def copy_model_and_plot_learning_curve():\n",
    "    import pickle\n",
    "    import matplotlib.pyplot as plt\n",
    "    from collections import deque\n",
    "    import os\n",
    "    import datetime\n",
    "    import shutil\n",
    "    \n",
    "    datetime_stamp = datetime.datetime.now().strftime('%y%m%d_%H%M')\n",
    "    plot_path = f'checkpoints/{datetime_stamp}'\n",
    "    \n",
    "    if not os.path.exists(plot_path):\n",
    "        os.makedirs(plot_path)\n",
    "    else:\n",
    "        print(f'directory {plot_path} already exists')\n",
    "        return\n",
    "    \n",
    "    shutil.copyfile('checkpoints/scores.pickle', f'{plot_path}/scores.pickle')\n",
    "    shutil.copyfile('checkpoints/model_checkpoint.pickle', f'{plot_path}/model.pickle')\n",
    "\n",
    "    with open(f'{plot_path}/scores.pickle', 'rb') as f:\n",
    "        total_rewards = pickle.load(f)\n",
    "\n",
    "    smoothed = []\n",
    "    queue = deque([], maxlen=10)\n",
    "    for r in total_rewards:\n",
    "        queue.append(r)\n",
    "        smoothed.append(sum(queue)/len(queue))\n",
    "    fig,ax = plt.subplots()\n",
    "    ax.plot(smoothed)\n",
    "    ax.set_xlabel('episodes')\n",
    "    plt.savefig(f'{plot_path}/learning_curve.png')\n",
    "    plt.show()\n",
    "copy_model_and_plot_learning_curve()"
   ]
  },
  {
   "cell_type": "code",
   "execution_count": 7,
   "metadata": {},
   "outputs": [
    {
     "name": "stdout",
     "output_type": "stream",
     "text": [
      "Total score (averaged over agents) this episode: 37.74349915636704\n"
     ]
    }
   ],
   "source": [
    "# Function to run agents after training\n",
    "\n",
    "def run_agents(model_path):\n",
    "    from ppo_agent import Agent\n",
    "    from ppo import HIDDEN_LAYER_SIZE\n",
    "\n",
    "    brain_name = env.brain_names[0]\n",
    "    brain = env.brains[brain_name]\n",
    "    env_info = env.reset(train_mode=False)[brain_name]\n",
    "    num_agents = len(env_info.agents)\n",
    "    n_observations = env_info.vector_observations.shape[1]\n",
    "    n_actions = brain.vector_action_space_size\n",
    "    device = torch.device(\"cuda\" if torch.cuda.is_available() else \"cpu\")\n",
    "    \n",
    "\n",
    "    agent = Agent(n_observations, n_actions, HIDDEN_LAYER_SIZE)\n",
    "    agent.load_state_dict(torch.load(model_path))\n",
    "\n",
    "    scores = np.zeros(num_agents)\n",
    "    while True:\n",
    "        obs = torch.Tensor(env_info.vector_observations)\n",
    "        with torch.no_grad():\n",
    "            actions, _, _, _ = agent.get_action_and_value(obs)\n",
    "        env_info = env.step(actions.cpu().numpy())[brain_name]           # send all actions to the environment\n",
    "        scores += np.array(env_info.rewards)                         # update the score (for each agent)\n",
    "        if np.any(env_info.local_done):                                  # exit loop if episode finished\n",
    "            break\n",
    "    print('Total score (averaged over agents) this episode: {}'.format(np.mean(scores)))\n",
    "run_agents('checkpoints/model_checkpoint.pickle')"
   ]
  },
  {
   "cell_type": "code",
   "execution_count": null,
   "metadata": {},
   "outputs": [],
   "source": [
    "env.close()"
   ]
  }
 ],
 "metadata": {
  "kernelspec": {
   "display_name": "drlnd",
   "language": "python",
   "name": "drlnd"
  },
  "language_info": {
   "codemirror_mode": {
    "name": "ipython",
    "version": 3
   },
   "file_extension": ".py",
   "mimetype": "text/x-python",
   "name": "python",
   "nbconvert_exporter": "python",
   "pygments_lexer": "ipython3",
   "version": "3.6.13"
  }
 },
 "nbformat": 4,
 "nbformat_minor": 2
}

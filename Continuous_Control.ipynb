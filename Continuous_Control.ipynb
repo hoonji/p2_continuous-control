{
 "cells": [
  {
   "cell_type": "markdown",
   "metadata": {},
   "source": [
    "# Continuous Control\n",
    "\n",
    "---\n",
    "\n",
    "In this notebook, you will learn how to use the Unity ML-Agents environment for the second project of the [Deep Reinforcement Learning Nanodegree](https://www.udacity.com/course/deep-reinforcement-learning-nanodegree--nd893) program.\n",
    "\n",
    "### 1. Start the Environment\n",
    "\n",
    "We begin by importing the necessary packages.  If the code cell below returns an error, please revisit the project instructions to double-check that you have installed [Unity ML-Agents](https://github.com/Unity-Technologies/ml-agents/blob/master/docs/Installation.md) and [NumPy](http://www.numpy.org/)."
   ]
  },
  {
   "cell_type": "code",
   "execution_count": 1,
   "metadata": {},
   "outputs": [],
   "source": [
    "from unityagents import UnityEnvironment\n",
    "import numpy as np\n",
    "import torch\n",
    "import random"
   ]
  },
  {
   "cell_type": "markdown",
   "metadata": {},
   "source": [
    "Next, we will start the environment!  **_Before running the code cell below_**, change the `file_name` parameter to match the location of the Unity environment that you downloaded.\n",
    "\n",
    "- **Mac**: `\"path/to/Reacher.app\"`\n",
    "- **Windows** (x86): `\"path/to/Reacher_Windows_x86/Reacher.exe\"`\n",
    "- **Windows** (x86_64): `\"path/to/Reacher_Windows_x86_64/Reacher.exe\"`\n",
    "- **Linux** (x86): `\"path/to/Reacher_Linux/Reacher.x86\"`\n",
    "- **Linux** (x86_64): `\"path/to/Reacher_Linux/Reacher.x86_64\"`\n",
    "- **Linux** (x86, headless): `\"path/to/Reacher_Linux_NoVis/Reacher.x86\"`\n",
    "- **Linux** (x86_64, headless): `\"path/to/Reacher_Linux_NoVis/Reacher.x86_64\"`\n",
    "\n",
    "For instance, if you are using a Mac, then you downloaded `Reacher.app`.  If this file is in the same folder as the notebook, then the line below should appear as follows:\n",
    "```\n",
    "env = UnityEnvironment(file_name=\"Reacher.app\")\n",
    "```"
   ]
  },
  {
   "cell_type": "code",
   "execution_count": 2,
   "metadata": {},
   "outputs": [
    {
     "name": "stderr",
     "output_type": "stream",
     "text": [
      "INFO:unityagents:\n",
      "'Academy' started successfully!\n",
      "Unity Academy name: Academy\n",
      "        Number of Brains: 1\n",
      "        Number of External Brains : 1\n",
      "        Lesson number : 0\n",
      "        Reset Parameters :\n",
      "\t\tgoal_size -> 5.0\n",
      "\t\tgoal_speed -> 1.0\n",
      "Unity brain name: ReacherBrain\n",
      "        Number of Visual Observations (per agent): 0\n",
      "        Vector Observation space type: continuous\n",
      "        Vector Observation space size (per agent): 33\n",
      "        Number of stacked Vector Observation: 1\n",
      "        Vector Action space type: continuous\n",
      "        Vector Action space size (per agent): 4\n",
      "        Vector Action descriptions: , , , \n"
     ]
    }
   ],
   "source": [
    "env = UnityEnvironment(file_name='Reacher_multi.app')"
   ]
  },
  {
   "cell_type": "markdown",
   "metadata": {},
   "source": [
    "Environments contain **_brains_** which are responsible for deciding the actions of their associated agents. Here we check for the first brain available, and set it as the default brain we will be controlling from Python."
   ]
  },
  {
   "cell_type": "code",
   "execution_count": 3,
   "metadata": {},
   "outputs": [],
   "source": [
    "# get the default brain\n",
    "brain_name = env.brain_names[0]\n",
    "brain = env.brains[brain_name]"
   ]
  },
  {
   "cell_type": "markdown",
   "metadata": {},
   "source": [
    "### 2. Examine the State and Action Spaces\n",
    "\n",
    "In this environment, a double-jointed arm can move to target locations. A reward of `+0.1` is provided for each step that the agent's hand is in the goal location. Thus, the goal of your agent is to maintain its position at the target location for as many time steps as possible.\n",
    "\n",
    "The observation space consists of `33` variables corresponding to position, rotation, velocity, and angular velocities of the arm.  Each action is a vector with four numbers, corresponding to torque applicable to two joints.  Every entry in the action vector must be a number between `-1` and `1`.\n",
    "\n",
    "Run the code cell below to print some information about the environment."
   ]
  },
  {
   "cell_type": "code",
   "execution_count": 4,
   "metadata": {},
   "outputs": [
    {
     "name": "stdout",
     "output_type": "stream",
     "text": [
      "Number of agents: 20\n",
      "Size of each action: 4\n",
      "There are 20 agents. Each observes a state with length: 33\n",
      "The state for the first agent looks like: [ 0.00000000e+00 -4.00000000e+00  0.00000000e+00  1.00000000e+00\n",
      " -0.00000000e+00 -0.00000000e+00 -4.37113883e-08  0.00000000e+00\n",
      "  0.00000000e+00  0.00000000e+00  0.00000000e+00  0.00000000e+00\n",
      "  0.00000000e+00  0.00000000e+00 -1.00000000e+01  0.00000000e+00\n",
      "  1.00000000e+00 -0.00000000e+00 -0.00000000e+00 -4.37113883e-08\n",
      "  0.00000000e+00  0.00000000e+00  0.00000000e+00  0.00000000e+00\n",
      "  0.00000000e+00  0.00000000e+00  5.75471878e+00 -1.00000000e+00\n",
      "  5.55726624e+00  0.00000000e+00  1.00000000e+00  0.00000000e+00\n",
      " -1.68164849e-01]\n"
     ]
    }
   ],
   "source": [
    "# reset the environment\n",
    "env_info = env.reset(train_mode=True)[brain_name]\n",
    "\n",
    "# number of agents\n",
    "num_agents = len(env_info.agents)\n",
    "print('Number of agents:', num_agents)\n",
    "\n",
    "# size of each action\n",
    "action_size = brain.vector_action_space_size\n",
    "print('Size of each action:', action_size)\n",
    "\n",
    "# examine the state space \n",
    "states = env_info.vector_observations\n",
    "state_size = states.shape[1]\n",
    "print('There are {} agents. Each observes a state with length: {}'.format(states.shape[0], state_size))\n",
    "print('The state for the first agent looks like:', states[0])"
   ]
  },
  {
   "cell_type": "markdown",
   "metadata": {},
   "source": [
    "### 3. Take Random Actions in the Environment\n",
    "\n",
    "In the next code cell, you will learn how to use the Python API to control the agent and receive feedback from the environment.\n",
    "\n",
    "Once this cell is executed, you will watch the agent's performance, if it selects an action at random with each time step.  A window should pop up that allows you to observe the agent, as it moves through the environment.  \n",
    "\n",
    "Of course, as part of the project, you'll have to change the code so that the agent is able to use its experience to gradually choose better actions when interacting with the environment!"
   ]
  },
  {
   "cell_type": "code",
   "execution_count": 5,
   "metadata": {},
   "outputs": [],
   "source": [
    "# env_info = env.reset(train_mode=False)[brain_name]     # reset the environment    \n",
    "# states = env_info.vector_observations                  # get the current state (for each agent)\n",
    "# scores = np.zeros(num_agents)                          # initialize the score (for each agent)\n",
    "# while True:\n",
    "#     actions = np.random.randn(num_agents, action_size) # select an action (for each agent)\n",
    "#     actions = np.clip(actions, -1, 1)                  # all actions between -1 and 1\n",
    "#     env_info = env.step(actions)[brain_name]           # send all actions to tne environment\n",
    "#     next_states = env_info.vector_observations         # get next state (for each agent)\n",
    "#     rewards = env_info.rewards                         # get reward (for each agent)\n",
    "#     dones = env_info.local_done                        # see if episode finished\n",
    "#     scores += env_info.rewards                         # update the score (for each agent)\n",
    "#     states = next_states                               # roll over states to next time step\n",
    "#     if np.any(dones):                                  # exit loop if episode finished\n",
    "#         break\n",
    "# print('Total score (averaged over agents) this episode: {}'.format(np.mean(scores)))"
   ]
  },
  {
   "cell_type": "markdown",
   "metadata": {},
   "source": [
    "### 4. It's Your Turn!\n",
    "\n",
    "Now it's your turn to train your own agent to solve the environment!  When training the environment, set `train_mode=True`, so that the line for resetting the environment looks like the following:\n",
    "```python\n",
    "env_info = env.reset(train_mode=True)[brain_name]\n",
    "```"
   ]
  },
  {
   "cell_type": "code",
   "execution_count": null,
   "metadata": {
    "scrolled": true
   },
   "outputs": [
    {
     "name": "stdout",
     "output_type": "stream",
     "text": [
      "update 1/48. Last update in 3.814697265625e-06s\n",
      "last 100 returns: 0.17399999611079692\n",
      "update 2/48. Last update in 34.0333731174469s\n",
      "last 100 returns: 0.1886249957839027\n",
      "update 3/48. Last update in 34.075111865997314s\n",
      "last 100 returns: 0.2412999946065247\n",
      "update 4/48. Last update in 33.715331077575684s\n",
      "last 100 returns: 0.3738999916426837\n",
      "update 5/48. Last update in 35.062289237976074s\n",
      "last 100 returns: 0.6754999849013984\n",
      "update 6/48. Last update in 34.318703174591064s\n",
      "last 100 returns: 0.9493999787792563\n",
      "update 7/48. Last update in 34.488550901412964s\n",
      "last 100 returns: 1.206899973023683\n",
      "update 8/48. Last update in 33.972161054611206s\n",
      "last 100 returns: 1.397399968765676\n",
      "update 9/48. Last update in 34.10686922073364s\n",
      "last 100 returns: 1.432399967983365\n",
      "update 10/48. Last update in 34.07793617248535s\n",
      "last 100 returns: 1.4791999669373035\n",
      "update 11/48. Last update in 34.04364895820618s\n",
      "last 100 returns: 1.534699965696782\n",
      "update 12/48. Last update in 36.96277570724487s\n",
      "last 100 returns: 1.6690999626927079\n",
      "update 13/48. Last update in 38.06717395782471s\n",
      "last 100 returns: 1.8324999590404332\n",
      "update 14/48. Last update in 34.515783071517944s\n",
      "last 100 returns: 2.025399954728782\n",
      "update 15/48. Last update in 34.47989225387573s\n",
      "last 100 returns: 2.163699951637536\n",
      "update 16/48. Last update in 34.05421423912048s\n",
      "last 100 returns: 2.2180999504216015\n",
      "update 17/48. Last update in 34.818601846694946s\n",
      "last 100 returns: 2.309199948385358\n",
      "update 18/48. Last update in 34.45273208618164s\n",
      "last 100 returns: 2.40539994623512\n",
      "update 19/48. Last update in 34.28062295913696s\n",
      "last 100 returns: 2.5787999423593284\n",
      "update 20/48. Last update in 34.13660001754761s\n",
      "last 100 returns: 2.6019999418407678\n",
      "update 21/48. Last update in 34.525087118148804s\n",
      "last 100 returns: 2.604899941775948\n",
      "update 22/48. Last update in 35.343868255615234s\n",
      "last 100 returns: 2.748299938570708\n",
      "update 23/48. Last update in 34.39424800872803s\n",
      "last 100 returns: 2.728299939017743\n",
      "update 24/48. Last update in 36.35649514198303s\n",
      "last 100 returns: 2.718999939225614\n",
      "update 25/48. Last update in 34.8377799987793s\n",
      "last 100 returns: 2.736799938827753\n",
      "update 26/48. Last update in 34.41510605812073s\n",
      "last 100 returns: 2.897599935233593\n",
      "update 27/48. Last update in 34.70241689682007s\n",
      "last 100 returns: 2.983799933306873\n",
      "update 28/48. Last update in 34.05448818206787s\n",
      "last 100 returns: 2.9477999341115355\n",
      "update 29/48. Last update in 34.09669589996338s\n"
     ]
    }
   ],
   "source": [
    "from ppo import run_ppo\n",
    "\n",
    "run_ppo(env)"
   ]
  },
  {
   "cell_type": "code",
   "execution_count": null,
   "metadata": {
    "scrolled": true
   },
   "outputs": [],
   "source": [
    "def copy_model_and_plot_learning_curve():\n",
    "    import pickle\n",
    "    import matplotlib.pyplot as plt\n",
    "    from collections import deque\n",
    "    import os\n",
    "    import datetime\n",
    "    import shutil\n",
    "    \n",
    "    datetime_stamp = datetime.datetime.now().strftime('%y%m%d_%H%M')\n",
    "    plot_path = f'checkpoints/{datetime_stamp}'\n",
    "    \n",
    "    if not os.path.exists(plot_path):\n",
    "        os.makedirs(plot_path)\n",
    "    else:\n",
    "        print(f'directory {plot_path} already exists')\n",
    "        return\n",
    "    \n",
    "    shutil.copyfile('scores.pickle', f'{plot_path}/scores.pickle')\n",
    "    shutil.copyfile('model_checkpoint.pickle', f'{plot_path}/model.pickle')\n",
    "\n",
    "    with open(f'{plot_path}/scores.pickle', 'rb') as f:\n",
    "        total_rewards = pickle.load(f)\n",
    "\n",
    "    smoothed = []\n",
    "    queue = deque([], maxlen=10)\n",
    "    for r in total_rewards:\n",
    "        queue.append(r)\n",
    "        smoothed.append(sum(queue)/len(queue))\n",
    "    fig,ax = plt.subplots()\n",
    "    ax.plot(smoothed)\n",
    "    ax.set_xlabel('episodes')\n",
    "    plt.savefig(f'{plot_path}/learning_curve.png')\n",
    "    plt.show()\n",
    "copy_model_and_plot_learning_curve()"
   ]
  },
  {
   "cell_type": "code",
   "execution_count": null,
   "metadata": {},
   "outputs": [],
   "source": [
    "# Function to run agents after training\n",
    "\n",
    "def run_agents(model_path):\n",
    "    from ppo_agent import Agent\n",
    "    from ppo import HIDDEN_LAYER_SIZE\n",
    "\n",
    "    brain_name = env.brain_names[0]\n",
    "    brain = env.brains[brain_name]\n",
    "    env_info = env.reset(train_mode=False)[brain_name]\n",
    "    num_agents = len(env_info.agents)\n",
    "    n_observations = env_info.vector_observations.shape[1]\n",
    "    n_actions = brain.vector_action_space_size\n",
    "    device = torch.device(\"cuda\" if torch.cuda.is_available() else \"cpu\")    \n",
    "\n",
    "    agent = Agent(n_observations, n_actions, HIDDEN_LAYER_SIZE)\n",
    "    agent.load_state_dict(torch.load(model_path))\n",
    "\n",
    "    scores = np.zeros(num_agents)\n",
    "    while True:\n",
    "        obs = torch.Tensor(env_info.vector_observations)\n",
    "        with torch.no_grad():\n",
    "            actions, _, _, _ = agent.get_action_and_value(obs)\n",
    "        env_info = env.step(actions.cpu().numpy())[brain_name]           # send all actions to the environment\n",
    "        scores += np.array(env_info.rewards)                         # update the score (for each agent)\n",
    "        if np.any(env_info.local_done):                                  # exit loop if episode finished\n",
    "            break\n",
    "    print('Total score (averaged over agents) this episode: {}'.format(np.mean(scores)))\n",
    "run_agents('model_checkpoint.pickle')"
   ]
  },
  {
   "cell_type": "code",
   "execution_count": null,
   "metadata": {},
   "outputs": [],
   "source": [
    "env.close()"
   ]
  }
 ],
 "metadata": {
  "kernelspec": {
   "display_name": "drlnd",
   "language": "python",
   "name": "drlnd"
  },
  "language_info": {
   "codemirror_mode": {
    "name": "ipython",
    "version": 3
   },
   "file_extension": ".py",
   "mimetype": "text/x-python",
   "name": "python",
   "nbconvert_exporter": "python",
   "pygments_lexer": "ipython3",
   "version": "3.6.13"
  }
 },
 "nbformat": 4,
 "nbformat_minor": 2
}
